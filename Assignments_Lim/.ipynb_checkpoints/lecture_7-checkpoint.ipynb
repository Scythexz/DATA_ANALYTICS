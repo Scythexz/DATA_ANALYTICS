{
 "cells": [
  {
   "cell_type": "markdown",
   "id": "7495dad7-4908-4c79-9623-15625984a8bb",
   "metadata": {},
   "source": [
    "# Support Vector Machines \n",
    "## Instructions\n",
    "1. Use any dataset from https://archive.ics.uci.edu/datasets?Task=Clustering&skip=0&take=10&sort=desc&orderBy=NumHits&search=&Area=Biology\n",
    "2. Each student should have a unique dataset otherwise no points will be given, so you need to discuss with your classmate.ate."
   ]
  },
  {
   "cell_type": "code",
   "execution_count": 45,
   "id": "45b81db0-ed66-4841-9009-61edd20ad2c0",
   "metadata": {},
   "outputs": [],
   "source": [
    "import pandas as pd\n",
    "import numpy as np\n",
    "import seaborn as sns\n",
    "import matplotlib.pyplot as plt\n",
    "from sklearn.svm import SVC\n",
    "from sklearn.model_selection import train_test_split, GridSearchCV\n",
    "from sklearn.metrics import classification_report, confusion_matrix\n",
    "from ucimlrepo import fetch_ucirepo"
   ]
  },
  {
   "cell_type": "code",
   "execution_count": 5,
   "id": "343e3694-0f52-4b48-824d-da62dee90c7b",
   "metadata": {},
   "outputs": [
    {
     "name": "stdout",
     "output_type": "stream",
     "text": [
      "{'uci_id': 26, 'name': 'Connect-4', 'repository_url': 'https://archive.ics.uci.edu/dataset/26/connect+4', 'data_url': 'https://archive.ics.uci.edu/static/public/26/data.csv', 'abstract': 'Contains connect-4 positions', 'area': 'Games', 'tasks': ['Classification'], 'characteristics': ['Multivariate', 'Spatial'], 'num_instances': 67557, 'num_features': 42, 'feature_types': ['Categorical'], 'demographics': [], 'target_col': ['class'], 'index_col': None, 'has_missing_values': 'no', 'missing_values_symbol': None, 'year_of_dataset_creation': 1995, 'last_updated': 'Sat Mar 09 2024', 'dataset_doi': '10.24432/C59P43', 'creators': ['John Tromp'], 'intro_paper': None, 'additional_info': {'summary': 'This database contains all legal 8-ply positions in the game of connect-4 in which neither player has won yet, and in which the next move is not forced.\\r\\n\\r\\nx is the first player; o the second.\\r\\n\\r\\nThe outcome class is the game theoretical value for the first player.', 'purpose': None, 'funded_by': None, 'instances_represent': None, 'recommended_data_splits': None, 'sensitive_data': None, 'preprocessing_description': None, 'variable_info': 'Attribute Information: (x=player x has taken, o=player o has taken, b=blank)\\r\\n\\r\\nThe board is numbered like:\\r\\n6 . . . . . . .\\r\\n5 . . . . . . .\\r\\n4 . . . . . . .\\r\\n3 . . . . . . .\\r\\n2 . . . . . . .\\r\\n1 . . . . . . .\\r\\n a b c d e f g\\r\\n\\r\\n    1. a1: {x,o,b}\\r\\n    2. a2: {x,o,b}\\r\\n    3. a3: {x,o,b}\\r\\n    4. a4: {x,o,b}\\r\\n    5. a5: {x,o,b}\\r\\n    6. a6: {x,o,b}\\r\\n    7. b1: {x,o,b}\\r\\n    8. b2: {x,o,b}\\r\\n    9. b3: {x,o,b}\\r\\n   10. b4: {x,o,b}\\r\\n   11. b5: {x,o,b}\\r\\n   12. b6: {x,o,b}\\r\\n   13. c1: {x,o,b}\\r\\n   14. c2: {x,o,b}\\r\\n   15. c3: {x,o,b}\\r\\n   16. c4: {x,o,b}\\r\\n   17. c5: {x,o,b}\\r\\n   18. c6: {x,o,b}\\r\\n   19. d1: {x,o,b}\\r\\n   20. d2: {x,o,b}\\r\\n   21. d3: {x,o,b}\\r\\n   22. d4: {x,o,b}\\r\\n   23. d5: {x,o,b}\\r\\n   24. d6: {x,o,b}\\r\\n   25. e1: {x,o,b}\\r\\n   26. e2: {x,o,b}\\r\\n   27. e3: {x,o,b}\\r\\n   28. e4: {x,o,b}\\r\\n   29. e5: {x,o,b}\\r\\n   30. e6: {x,o,b}\\r\\n   31. f1: {x,o,b}\\r\\n   32. f2: {x,o,b}\\r\\n   33. f3: {x,o,b}\\r\\n   34. f4: {x,o,b}\\r\\n   35. f5: {x,o,b}\\r\\n   36. f6: {x,o,b}\\r\\n   37. g1: {x,o,b}\\r\\n   38. g2: {x,o,b}\\r\\n   39. g3: {x,o,b}\\r\\n   40. g4: {x,o,b}\\r\\n   41. g5: {x,o,b}\\r\\n   42. g6: {x,o,b}\\r\\n   43. Class: {win,loss,draw}', 'citation': None}}\n",
      "     name     role         type demographic description units missing_values\n",
      "0      a1  Feature  Categorical        None        None  None             no\n",
      "1      a2  Feature  Categorical        None        None  None             no\n",
      "2      a3  Feature  Categorical        None        None  None             no\n",
      "3      a4  Feature  Categorical        None        None  None             no\n",
      "4      a5  Feature  Categorical        None        None  None             no\n",
      "5      a6  Feature  Categorical        None        None  None             no\n",
      "6      b1  Feature  Categorical        None        None  None             no\n",
      "7      b2  Feature  Categorical        None        None  None             no\n",
      "8      b3  Feature  Categorical        None        None  None             no\n",
      "9      b4  Feature  Categorical        None        None  None             no\n",
      "10     b5  Feature  Categorical        None        None  None             no\n",
      "11     b6  Feature  Categorical        None        None  None             no\n",
      "12     c1  Feature  Categorical        None        None  None             no\n",
      "13     c2  Feature  Categorical        None        None  None             no\n",
      "14     c3  Feature  Categorical        None        None  None             no\n",
      "15     c4  Feature  Categorical        None        None  None             no\n",
      "16     c5  Feature  Categorical        None        None  None             no\n",
      "17     c6  Feature  Categorical        None        None  None             no\n",
      "18     d1  Feature  Categorical        None        None  None             no\n",
      "19     d2  Feature  Categorical        None        None  None             no\n",
      "20     d3  Feature  Categorical        None        None  None             no\n",
      "21     d4  Feature  Categorical        None        None  None             no\n",
      "22     d5  Feature  Categorical        None        None  None             no\n",
      "23     d6  Feature  Categorical        None        None  None             no\n",
      "24     e1  Feature  Categorical        None        None  None             no\n",
      "25     e2  Feature  Categorical        None        None  None             no\n",
      "26     e3  Feature  Categorical        None        None  None             no\n",
      "27     e4  Feature  Categorical        None        None  None             no\n",
      "28     e5  Feature  Categorical        None        None  None             no\n",
      "29     e6  Feature  Categorical        None        None  None             no\n",
      "30     f1  Feature  Categorical        None        None  None             no\n",
      "31     f2  Feature  Categorical        None        None  None             no\n",
      "32     f3  Feature  Categorical        None        None  None             no\n",
      "33     f4  Feature  Categorical        None        None  None             no\n",
      "34     f5  Feature  Categorical        None        None  None             no\n",
      "35     f6  Feature  Categorical        None        None  None             no\n",
      "36     g1  Feature  Categorical        None        None  None             no\n",
      "37     g2  Feature  Categorical        None        None  None             no\n",
      "38     g3  Feature  Categorical        None        None  None             no\n",
      "39     g4  Feature  Categorical        None        None  None             no\n",
      "40     g5  Feature  Categorical        None        None  None             no\n",
      "41     g6  Feature  Categorical        None        None  None             no\n",
      "42  class   Target  Categorical        None        None  None             no\n"
     ]
    }
   ],
   "source": [
    "from ucimlrepo import fetch_ucirepo \n",
    "  \n",
    "# fetch dataset \n",
    "connect_4 = fetch_ucirepo(id=26) \n",
    "  \n",
    "# data (as pandas dataframes) \n",
    "X = connect_4.data.features \n",
    "y = connect_4.data.targets \n",
    "  \n",
    "# metadata \n",
    "print(connect_4.metadata) \n",
    "  \n",
    "# variable information \n",
    "print(connect_4.variables) "
   ]
  },
  {
   "cell_type": "markdown",
   "id": "45b4ba82-d2f2-4f37-bc9d-372eb5bb24c6",
   "metadata": {},
   "source": [
    "**TASK: Take 10 moderately sized subsamples your dataset and create a correlation plot for each subsample**"
   ]
  },
  {
   "cell_type": "code",
   "execution_count": 49,
   "id": "a6398537-609c-4974-8d30-e07d5ddcf35f",
   "metadata": {},
   "outputs": [
    {
     "name": "stdout",
     "output_type": "stream",
     "text": [
      "  a1 a2 a3 a4 a5 a6 b1 b2 b3 b4  ... f4 f5 f6 g1 g2 g3 g4 g5 g6 class\n",
      "0  b  b  b  b  b  b  b  b  b  b  ...  b  b  b  b  b  b  b  b  b   win\n",
      "1  b  b  b  b  b  b  b  b  b  b  ...  b  b  b  b  b  b  b  b  b   win\n",
      "2  b  b  b  b  b  b  o  b  b  b  ...  b  b  b  b  b  b  b  b  b   win\n",
      "3  b  b  b  b  b  b  b  b  b  b  ...  b  b  b  b  b  b  b  b  b   win\n",
      "4  o  b  b  b  b  b  b  b  b  b  ...  b  b  b  b  b  b  b  b  b   win\n",
      "\n",
      "[5 rows x 43 columns]\n",
      "Subsample 1 is empty. Skipping.\n",
      "Subsample 2 is empty. Skipping.\n",
      "Subsample 3 is empty. Skipping.\n",
      "Subsample 4 is empty. Skipping.\n",
      "Subsample 5 is empty. Skipping.\n",
      "Subsample 6 is empty. Skipping.\n",
      "Subsample 7 is empty. Skipping.\n",
      "Subsample 8 is empty. Skipping.\n",
      "Subsample 9 is empty. Skipping.\n",
      "Subsample 10 is empty. Skipping.\n"
     ]
    }
   ],
   "source": [
    "# Combine X and y into a single DataFrame\n",
    "df = pd.concat([X, y], axis=1)\n",
    "\n",
    "# Display the first few rows of the DataFrame\n",
    "print(df.head())\n",
    "\n",
    "# Drop rows with non-numeric values\n",
    "df_numeric = df.dropna().select_dtypes(include=[np.number])\n",
    "\n",
    "# Define the number of subsamples\n",
    "num_subsamples = 10\n",
    "\n",
    "# Define the size of each subsample (moderately sized)\n",
    "subsample_size = len(df_numeric) // num_subsamples\n",
    "\n",
    "# Create a list to store the correlation plots\n",
    "correlation_plots = []\n",
    "\n",
    "# Randomly select subsamples and create correlation plots\n",
    "for i in range(num_subsamples):\n",
    "    # Randomly select rows for the subsample\n",
    "    subsample_indices = np.random.choice(df_numeric.index, size=subsample_size, replace=False)\n",
    "    \n",
    "    # Extract the subsample from the dataset\n",
    "    subsample = df_numeric.loc[subsample_indices]\n",
    "    \n",
    "    # Ensure the subsample is not empty\n",
    "    if subsample.empty:\n",
    "        print(f'Subsample {i+1} is empty. Skipping.')\n",
    "        continue\n",
    "    \n",
    "    # Calculate the correlation matrix for the subsample\n",
    "    correlation_matrix = subsample.corr()\n",
    "    \n",
    "    # Ensure the correlation matrix is not empty\n",
    "    if correlation_matrix.empty or correlation_matrix.isnull().all().all():\n",
    "        print(f'Correlation matrix for subsample {i+1} is empty or all NaNs. Skipping.')\n",
    "        continue\n",
    "    \n",
    "    # Plot the correlation heatmap\n",
    "    plt.figure(figsize=(12, 10))\n",
    "    sns.heatmap(correlation_matrix, annot=True, cmap='coolwarm', fmt=\".2f\")\n",
    "    plt.title(f'Correlation Heatmap - Subsample {i+1}')\n",
    "    plt.show()"
   ]
  },
  {
   "cell_type": "markdown",
   "id": "57c1af5e-28f5-4bbe-8b66-1663dcbbeee9",
   "metadata": {},
   "source": [
    "**TASK (Classification): If your problem is a classification problem visually check if the target variable is imbalanced***"
   ]
  },
  {
   "cell_type": "code",
   "execution_count": 52,
   "id": "2b466eac-8bd7-4edb-af57-9d893e4bd123",
   "metadata": {},
   "outputs": [
    {
     "data": {
      "image/png": "[encoded data removed]",
      "text/plain": [
       "<Figure size 1000x600 with 1 Axes>"
      ]
     },
     "metadata": {},
     "output_type": "display_data"
    }
   ],
   "source": [
    "plt.figure(figsize=(10, 6))\n",
    "sns.countplot(x=y.columns[0], data=df, palette='viridis')\n",
    "plt.title('Distribution of Target Variable')\n",
    "plt.xlabel('Target Classes')\n",
    "plt.ylabel('Count')\n",
    "plt.show()"
   ]
  },
  {
   "cell_type": "markdown",
   "id": "c33fe246-76f2-4dc8-baef-66417d9d38d5",
   "metadata": {},
   "source": [
    "**TASK: Take 10 moderately sized subsamples and create a pairplot of the feature variable in relation to the target variable**"
   ]
  },
  {
   "cell_type": "code",
   "execution_count": 68,
   "id": "c6ed6005-690d-4a96-a3d2-b2d4580a39cf",
   "metadata": {},
   "outputs": [
    {
     "name": "stdout",
     "output_type": "stream",
     "text": [
      "Subsample 1 is empty. Skipping.\n",
      "Subsample 2 is empty. Skipping.\n",
      "Subsample 3 is empty. Skipping.\n",
      "Subsample 4 is empty. Skipping.\n",
      "Subsample 5 is empty. Skipping.\n",
      "Subsample 6 is empty. Skipping.\n",
      "Subsample 7 is empty. Skipping.\n",
      "Subsample 8 is empty. Skipping.\n",
      "Subsample 9 is empty. Skipping.\n",
      "Subsample 10 is empty. Skipping.\n"
     ]
    }
   ],
   "source": [
    "# Create a list to store pair plots\n",
    "pair_plots = []\n",
    "\n",
    "# Randomly select subsamples and create pair plots\n",
    "for i in range(num_subsamples):\n",
    "    # Randomly select rows for the subsample\n",
    "    subsample_indices = np.random.choice(df_numeric.index, size=subsample_size, replace=False)\n",
    "    \n",
    "    # Extract the subsample from the dataset\n",
    "    subsample = df_numeric.loc[subsample_indices]\n",
    "    \n",
    "    # Ensure the subsample is not empty\n",
    "    if subsample.empty:\n",
    "        print(f'Subsample {i+1} is empty. Skipping.')\n",
    "        continue\n",
    "    \n",
    "    # Check if the target variable is available\n",
    "    if y.columns[0] not in subsample.columns:\n",
    "        print(f'Subsample {i+1} does not contain the target variable. Skipping.')\n",
    "        continue\n",
    "    \n",
    "    # Create pair plot for the subsample\n",
    "    plt.figure(figsize=(12, 8))\n",
    "    sns.pairplot(subsample, hue=y.columns[0])\n",
    "    plt.title(f'Pair Plot - Subsample {i+1}')\n",
    "    plt.show()"
   ]
  },
  {
   "cell_type": "markdown",
   "id": "4df8ed33-fd7d-4819-a65e-04b17506a208",
   "metadata": {},
   "source": [
    "**TASK: Create a clustermap with seaborn to explore the relationships between variables.**"
   ]
  },
  {
   "cell_type": "code",
   "execution_count": 70,
   "id": "f2233410-c4dc-4c81-a62f-678954714351",
   "metadata": {},
   "outputs": [
    {
     "name": "stdout",
     "output_type": "stream",
     "text": [
      "Subsample 1 is empty. Skipping.\n",
      "Subsample 2 is empty. Skipping.\n",
      "Subsample 3 is empty. Skipping.\n",
      "Subsample 4 is empty. Skipping.\n",
      "Subsample 5 is empty. Skipping.\n",
      "Subsample 6 is empty. Skipping.\n",
      "Subsample 7 is empty. Skipping.\n",
      "Subsample 8 is empty. Skipping.\n",
      "Subsample 9 is empty. Skipping.\n",
      "Subsample 10 is empty. Skipping.\n"
     ]
    }
   ],
   "source": [
    "# Create a list to store clustermaps\n",
    "clustermaps = []\n",
    "\n",
    "# Randomly select subsamples and create clustermaps\n",
    "for i in range(num_subsamples):\n",
    "    # Randomly select rows for the subsample\n",
    "    subsample_indices = np.random.choice(df_numeric.index, size=subsample_size, replace=False)\n",
    "    \n",
    "    # Extract the subsample from the dataset\n",
    "    subsample = df_numeric.loc[subsample_indices]\n",
    "    \n",
    "    # Ensure the subsample is not empty\n",
    "    if subsample.empty:\n",
    "        print(f'Subsample {i+1} is empty. Skipping.')\n",
    "        continue\n",
    "    \n",
    "    # Check if the correlation matrix is empty\n",
    "    correlation_matrix = subsample.corr()\n",
    "    if correlation_matrix.empty or correlation_matrix.isnull().all().all():\n",
    "        print(f'Correlation matrix for subsample {i+1} is empty or all NaNs. Skipping.')\n",
    "        continue\n",
    "    \n",
    "    # Create clustermap for the subsample\n",
    "    plt.figure(figsize=(12, 10))\n",
    "    sns.clustermap(correlation_matrix, cmap='coolwarm', annot=True, fmt=\".2f\")\n",
    "    plt.title(f'Clustermap - Subsample {i+1}')\n",
    "    plt.show()\n",
    "\n"
   ]
  },
  {
   "cell_type": "markdown",
   "id": "5c522fd2-a69d-49bd-81af-cafd35697a87",
   "metadata": {},
   "source": [
    "**TASK: Perform SVM modelling and check the performance of your model, improve the performance of your model using grdisearch**"
   ]
  },
  {
   "cell_type": "code",
   "execution_count": 76,
   "id": "184a07fa-c091-4cbc-9ad9-d17cbb603508",
   "metadata": {},
   "outputs": [
    {
     "ename": "ValueError",
     "evalue": "could not convert string to float: 'x'",
     "output_type": "error",
     "traceback": [
      "\u001b[1;31m---------------------------------------------------------------------------\u001b[0m",
      "\u001b[1;31mValueError\u001b[0m                                Traceback (most recent call last)",
      "\u001b[1;32m~\\AppData\\Local\\Temp\\ipykernel_23032\\2997945518.py\u001b[0m in \u001b[0;36m?\u001b[1;34m()\u001b[0m\n\u001b[0;32m      4\u001b[0m \u001b[1;31m# Initialize SVM classifier\u001b[0m\u001b[1;33m\u001b[0m\u001b[1;33m\u001b[0m\u001b[0m\n\u001b[0;32m      5\u001b[0m \u001b[0msvm_classifier\u001b[0m \u001b[1;33m=\u001b[0m \u001b[0mSVC\u001b[0m\u001b[1;33m(\u001b[0m\u001b[1;33m)\u001b[0m\u001b[1;33m\u001b[0m\u001b[1;33m\u001b[0m\u001b[0m\n\u001b[0;32m      6\u001b[0m \u001b[1;33m\u001b[0m\u001b[0m\n\u001b[0;32m      7\u001b[0m \u001b[1;31m# Train the SVM classifier\u001b[0m\u001b[1;33m\u001b[0m\u001b[1;33m\u001b[0m\u001b[0m\n\u001b[1;32m----> 8\u001b[1;33m \u001b[0msvm_classifier\u001b[0m\u001b[1;33m.\u001b[0m\u001b[0mfit\u001b[0m\u001b[1;33m(\u001b[0m\u001b[0mX_train\u001b[0m\u001b[1;33m,\u001b[0m \u001b[0my_train\u001b[0m\u001b[1;33m)\u001b[0m\u001b[1;33m\u001b[0m\u001b[1;33m\u001b[0m\u001b[0m\n\u001b[0m\u001b[0;32m      9\u001b[0m \u001b[1;33m\u001b[0m\u001b[0m\n\u001b[0;32m     10\u001b[0m \u001b[1;31m# Predictions on the test set\u001b[0m\u001b[1;33m\u001b[0m\u001b[1;33m\u001b[0m\u001b[0m\n\u001b[0;32m     11\u001b[0m \u001b[0my_pred\u001b[0m \u001b[1;33m=\u001b[0m \u001b[0msvm_classifier\u001b[0m\u001b[1;33m.\u001b[0m\u001b[0mpredict\u001b[0m\u001b[1;33m(\u001b[0m\u001b[0mX_test\u001b[0m\u001b[1;33m)\u001b[0m\u001b[1;33m\u001b[0m\u001b[1;33m\u001b[0m\u001b[0m\n",
      "\u001b[1;32m~\\anaconda3\\Lib\\site-packages\\sklearn\\base.py\u001b[0m in \u001b[0;36m?\u001b[1;34m(estimator, *args, **kwargs)\u001b[0m\n\u001b[0;32m   1470\u001b[0m                 skip_parameter_validation=(\n\u001b[0;32m   1471\u001b[0m                     \u001b[0mprefer_skip_nested_validation\u001b[0m \u001b[1;32mor\u001b[0m \u001b[0mglobal_skip_validation\u001b[0m\u001b[1;33m\u001b[0m\u001b[1;33m\u001b[0m\u001b[0m\n\u001b[0;32m   1472\u001b[0m                 )\n\u001b[0;32m   1473\u001b[0m             ):\n\u001b[1;32m-> 1474\u001b[1;33m                 \u001b[1;32mreturn\u001b[0m \u001b[0mfit_method\u001b[0m\u001b[1;33m(\u001b[0m\u001b[0mestimator\u001b[0m\u001b[1;33m,\u001b[0m \u001b[1;33m*\u001b[0m\u001b[0margs\u001b[0m\u001b[1;33m,\u001b[0m \u001b[1;33m**\u001b[0m\u001b[0mkwargs\u001b[0m\u001b[1;33m)\u001b[0m\u001b[1;33m\u001b[0m\u001b[1;33m\u001b[0m\u001b[0m\n\u001b[0m",
      "\u001b[1;32m~\\anaconda3\\Lib\\site-packages\\sklearn\\svm\\_base.py\u001b[0m in \u001b[0;36m?\u001b[1;34m(self, X, y, sample_weight)\u001b[0m\n\u001b[0;32m    186\u001b[0m \u001b[1;33m\u001b[0m\u001b[0m\n\u001b[0;32m    187\u001b[0m         \u001b[1;32mif\u001b[0m \u001b[0mcallable\u001b[0m\u001b[1;33m(\u001b[0m\u001b[0mself\u001b[0m\u001b[1;33m.\u001b[0m\u001b[0mkernel\u001b[0m\u001b[1;33m)\u001b[0m\u001b[1;33m:\u001b[0m\u001b[1;33m\u001b[0m\u001b[1;33m\u001b[0m\u001b[0m\n\u001b[0;32m    188\u001b[0m             \u001b[0mcheck_consistent_length\u001b[0m\u001b[1;33m(\u001b[0m\u001b[0mX\u001b[0m\u001b[1;33m,\u001b[0m \u001b[0my\u001b[0m\u001b[1;33m)\u001b[0m\u001b[1;33m\u001b[0m\u001b[1;33m\u001b[0m\u001b[0m\n\u001b[0;32m    189\u001b[0m         \u001b[1;32melse\u001b[0m\u001b[1;33m:\u001b[0m\u001b[1;33m\u001b[0m\u001b[1;33m\u001b[0m\u001b[0m\n\u001b[1;32m--> 190\u001b[1;33m             X, y = self._validate_data(\n\u001b[0m\u001b[0;32m    191\u001b[0m                 \u001b[0mX\u001b[0m\u001b[1;33m,\u001b[0m\u001b[1;33m\u001b[0m\u001b[1;33m\u001b[0m\u001b[0m\n\u001b[0;32m    192\u001b[0m                 \u001b[0my\u001b[0m\u001b[1;33m,\u001b[0m\u001b[1;33m\u001b[0m\u001b[1;33m\u001b[0m\u001b[0m\n\u001b[0;32m    193\u001b[0m                 \u001b[0mdtype\u001b[0m\u001b[1;33m=\u001b[0m\u001b[0mnp\u001b[0m\u001b[1;33m.\u001b[0m\u001b[0mfloat64\u001b[0m\u001b[1;33m,\u001b[0m\u001b[1;33m\u001b[0m\u001b[1;33m\u001b[0m\u001b[0m\n",
      "\u001b[1;32m~\\anaconda3\\Lib\\site-packages\\sklearn\\base.py\u001b[0m in \u001b[0;36m?\u001b[1;34m(self, X, y, reset, validate_separately, cast_to_ndarray, **check_params)\u001b[0m\n\u001b[0;32m    646\u001b[0m                 \u001b[1;32mif\u001b[0m \u001b[1;34m\"estimator\"\u001b[0m \u001b[1;32mnot\u001b[0m \u001b[1;32min\u001b[0m \u001b[0mcheck_y_params\u001b[0m\u001b[1;33m:\u001b[0m\u001b[1;33m\u001b[0m\u001b[1;33m\u001b[0m\u001b[0m\n\u001b[0;32m    647\u001b[0m                     \u001b[0mcheck_y_params\u001b[0m \u001b[1;33m=\u001b[0m \u001b[1;33m{\u001b[0m\u001b[1;33m**\u001b[0m\u001b[0mdefault_check_params\u001b[0m\u001b[1;33m,\u001b[0m \u001b[1;33m**\u001b[0m\u001b[0mcheck_y_params\u001b[0m\u001b[1;33m}\u001b[0m\u001b[1;33m\u001b[0m\u001b[1;33m\u001b[0m\u001b[0m\n\u001b[0;32m    648\u001b[0m                 \u001b[0my\u001b[0m \u001b[1;33m=\u001b[0m \u001b[0mcheck_array\u001b[0m\u001b[1;33m(\u001b[0m\u001b[0my\u001b[0m\u001b[1;33m,\u001b[0m \u001b[0minput_name\u001b[0m\u001b[1;33m=\u001b[0m\u001b[1;34m\"y\"\u001b[0m\u001b[1;33m,\u001b[0m \u001b[1;33m**\u001b[0m\u001b[0mcheck_y_params\u001b[0m\u001b[1;33m)\u001b[0m\u001b[1;33m\u001b[0m\u001b[1;33m\u001b[0m\u001b[0m\n\u001b[0;32m    649\u001b[0m             \u001b[1;32melse\u001b[0m\u001b[1;33m:\u001b[0m\u001b[1;33m\u001b[0m\u001b[1;33m\u001b[0m\u001b[0m\n\u001b[1;32m--> 650\u001b[1;33m                 \u001b[0mX\u001b[0m\u001b[1;33m,\u001b[0m \u001b[0my\u001b[0m \u001b[1;33m=\u001b[0m \u001b[0mcheck_X_y\u001b[0m\u001b[1;33m(\u001b[0m\u001b[0mX\u001b[0m\u001b[1;33m,\u001b[0m \u001b[0my\u001b[0m\u001b[1;33m,\u001b[0m \u001b[1;33m**\u001b[0m\u001b[0mcheck_params\u001b[0m\u001b[1;33m)\u001b[0m\u001b[1;33m\u001b[0m\u001b[1;33m\u001b[0m\u001b[0m\n\u001b[0m\u001b[0;32m    651\u001b[0m             \u001b[0mout\u001b[0m \u001b[1;33m=\u001b[0m \u001b[0mX\u001b[0m\u001b[1;33m,\u001b[0m \u001b[0my\u001b[0m\u001b[1;33m\u001b[0m\u001b[1;33m\u001b[0m\u001b[0m\n\u001b[0;32m    652\u001b[0m \u001b[1;33m\u001b[0m\u001b[0m\n\u001b[0;32m    653\u001b[0m         \u001b[1;32mif\u001b[0m \u001b[1;32mnot\u001b[0m \u001b[0mno_val_X\u001b[0m \u001b[1;32mand\u001b[0m \u001b[0mcheck_params\u001b[0m\u001b[1;33m.\u001b[0m\u001b[0mget\u001b[0m\u001b[1;33m(\u001b[0m\u001b[1;34m\"ensure_2d\"\u001b[0m\u001b[1;33m,\u001b[0m \u001b[1;32mTrue\u001b[0m\u001b[1;33m)\u001b[0m\u001b[1;33m:\u001b[0m\u001b[1;33m\u001b[0m\u001b[1;33m\u001b[0m\u001b[0m\n",
      "\u001b[1;32m~\\anaconda3\\Lib\\site-packages\\sklearn\\utils\\validation.py\u001b[0m in \u001b[0;36m?\u001b[1;34m(X, y, accept_sparse, accept_large_sparse, dtype, order, copy, force_all_finite, ensure_2d, allow_nd, multi_output, ensure_min_samples, ensure_min_features, y_numeric, estimator)\u001b[0m\n\u001b[0;32m   1259\u001b[0m         raise ValueError(\n\u001b[0;32m   1260\u001b[0m             \u001b[1;34mf\"{estimator_name} requires y to be passed, but the target y is None\"\u001b[0m\u001b[1;33m\u001b[0m\u001b[1;33m\u001b[0m\u001b[0m\n\u001b[0;32m   1261\u001b[0m         )\n\u001b[0;32m   1262\u001b[0m \u001b[1;33m\u001b[0m\u001b[0m\n\u001b[1;32m-> 1263\u001b[1;33m     X = check_array(\n\u001b[0m\u001b[0;32m   1264\u001b[0m         \u001b[0mX\u001b[0m\u001b[1;33m,\u001b[0m\u001b[1;33m\u001b[0m\u001b[1;33m\u001b[0m\u001b[0m\n\u001b[0;32m   1265\u001b[0m         \u001b[0maccept_sparse\u001b[0m\u001b[1;33m=\u001b[0m\u001b[0maccept_sparse\u001b[0m\u001b[1;33m,\u001b[0m\u001b[1;33m\u001b[0m\u001b[1;33m\u001b[0m\u001b[0m\n\u001b[0;32m   1266\u001b[0m         \u001b[0maccept_large_sparse\u001b[0m\u001b[1;33m=\u001b[0m\u001b[0maccept_large_sparse\u001b[0m\u001b[1;33m,\u001b[0m\u001b[1;33m\u001b[0m\u001b[1;33m\u001b[0m\u001b[0m\n",
      "\u001b[1;32m~\\anaconda3\\Lib\\site-packages\\sklearn\\utils\\validation.py\u001b[0m in \u001b[0;36m?\u001b[1;34m(array, accept_sparse, accept_large_sparse, dtype, order, copy, force_all_finite, ensure_2d, allow_nd, ensure_min_samples, ensure_min_features, estimator, input_name)\u001b[0m\n\u001b[0;32m    994\u001b[0m                         )\n\u001b[0;32m    995\u001b[0m                     \u001b[0marray\u001b[0m \u001b[1;33m=\u001b[0m \u001b[0mxp\u001b[0m\u001b[1;33m.\u001b[0m\u001b[0mastype\u001b[0m\u001b[1;33m(\u001b[0m\u001b[0marray\u001b[0m\u001b[1;33m,\u001b[0m \u001b[0mdtype\u001b[0m\u001b[1;33m,\u001b[0m \u001b[0mcopy\u001b[0m\u001b[1;33m=\u001b[0m\u001b[1;32mFalse\u001b[0m\u001b[1;33m)\u001b[0m\u001b[1;33m\u001b[0m\u001b[1;33m\u001b[0m\u001b[0m\n\u001b[0;32m    996\u001b[0m                 \u001b[1;32melse\u001b[0m\u001b[1;33m:\u001b[0m\u001b[1;33m\u001b[0m\u001b[1;33m\u001b[0m\u001b[0m\n\u001b[0;32m    997\u001b[0m                     \u001b[0marray\u001b[0m \u001b[1;33m=\u001b[0m \u001b[0m_asarray_with_order\u001b[0m\u001b[1;33m(\u001b[0m\u001b[0marray\u001b[0m\u001b[1;33m,\u001b[0m \u001b[0morder\u001b[0m\u001b[1;33m=\u001b[0m\u001b[0morder\u001b[0m\u001b[1;33m,\u001b[0m \u001b[0mdtype\u001b[0m\u001b[1;33m=\u001b[0m\u001b[0mdtype\u001b[0m\u001b[1;33m,\u001b[0m \u001b[0mxp\u001b[0m\u001b[1;33m=\u001b[0m\u001b[0mxp\u001b[0m\u001b[1;33m)\u001b[0m\u001b[1;33m\u001b[0m\u001b[1;33m\u001b[0m\u001b[0m\n\u001b[1;32m--> 998\u001b[1;33m             \u001b[1;32mexcept\u001b[0m \u001b[0mComplexWarning\u001b[0m \u001b[1;32mas\u001b[0m \u001b[0mcomplex_warning\u001b[0m\u001b[1;33m:\u001b[0m\u001b[1;33m\u001b[0m\u001b[1;33m\u001b[0m\u001b[0m\n\u001b[0m\u001b[0;32m    999\u001b[0m                 raise ValueError(\n\u001b[0;32m   1000\u001b[0m                     \u001b[1;34m\"Complex data not supported\\n{}\\n\"\u001b[0m\u001b[1;33m.\u001b[0m\u001b[0mformat\u001b[0m\u001b[1;33m(\u001b[0m\u001b[0marray\u001b[0m\u001b[1;33m)\u001b[0m\u001b[1;33m\u001b[0m\u001b[1;33m\u001b[0m\u001b[0m\n\u001b[0;32m   1001\u001b[0m                 ) from complex_warning\n",
      "\u001b[1;32m~\\anaconda3\\Lib\\site-packages\\sklearn\\utils\\_array_api.py\u001b[0m in \u001b[0;36m?\u001b[1;34m(array, dtype, order, copy, xp)\u001b[0m\n\u001b[0;32m    517\u001b[0m         \u001b[1;31m# Use NumPy API to support order\u001b[0m\u001b[1;33m\u001b[0m\u001b[1;33m\u001b[0m\u001b[0m\n\u001b[0;32m    518\u001b[0m         \u001b[1;32mif\u001b[0m \u001b[0mcopy\u001b[0m \u001b[1;32mis\u001b[0m \u001b[1;32mTrue\u001b[0m\u001b[1;33m:\u001b[0m\u001b[1;33m\u001b[0m\u001b[1;33m\u001b[0m\u001b[0m\n\u001b[0;32m    519\u001b[0m             \u001b[0marray\u001b[0m \u001b[1;33m=\u001b[0m \u001b[0mnumpy\u001b[0m\u001b[1;33m.\u001b[0m\u001b[0marray\u001b[0m\u001b[1;33m(\u001b[0m\u001b[0marray\u001b[0m\u001b[1;33m,\u001b[0m \u001b[0morder\u001b[0m\u001b[1;33m=\u001b[0m\u001b[0morder\u001b[0m\u001b[1;33m,\u001b[0m \u001b[0mdtype\u001b[0m\u001b[1;33m=\u001b[0m\u001b[0mdtype\u001b[0m\u001b[1;33m)\u001b[0m\u001b[1;33m\u001b[0m\u001b[1;33m\u001b[0m\u001b[0m\n\u001b[0;32m    520\u001b[0m         \u001b[1;32melse\u001b[0m\u001b[1;33m:\u001b[0m\u001b[1;33m\u001b[0m\u001b[1;33m\u001b[0m\u001b[0m\n\u001b[1;32m--> 521\u001b[1;33m             \u001b[0marray\u001b[0m \u001b[1;33m=\u001b[0m \u001b[0mnumpy\u001b[0m\u001b[1;33m.\u001b[0m\u001b[0masarray\u001b[0m\u001b[1;33m(\u001b[0m\u001b[0marray\u001b[0m\u001b[1;33m,\u001b[0m \u001b[0morder\u001b[0m\u001b[1;33m=\u001b[0m\u001b[0morder\u001b[0m\u001b[1;33m,\u001b[0m \u001b[0mdtype\u001b[0m\u001b[1;33m=\u001b[0m\u001b[0mdtype\u001b[0m\u001b[1;33m)\u001b[0m\u001b[1;33m\u001b[0m\u001b[1;33m\u001b[0m\u001b[0m\n\u001b[0m\u001b[0;32m    522\u001b[0m \u001b[1;33m\u001b[0m\u001b[0m\n\u001b[0;32m    523\u001b[0m         \u001b[1;31m# At this point array is a NumPy ndarray. We convert it to an array\u001b[0m\u001b[1;33m\u001b[0m\u001b[1;33m\u001b[0m\u001b[0m\n\u001b[0;32m    524\u001b[0m         \u001b[1;31m# container that is consistent with the input's namespace.\u001b[0m\u001b[1;33m\u001b[0m\u001b[1;33m\u001b[0m\u001b[0m\n",
      "\u001b[1;32m~\\anaconda3\\Lib\\site-packages\\pandas\\core\\generic.py\u001b[0m in \u001b[0;36m?\u001b[1;34m(self, dtype, copy)\u001b[0m\n\u001b[0;32m   2149\u001b[0m     def __array__(\n\u001b[0;32m   2150\u001b[0m         \u001b[0mself\u001b[0m\u001b[1;33m,\u001b[0m \u001b[0mdtype\u001b[0m\u001b[1;33m:\u001b[0m \u001b[0mnpt\u001b[0m\u001b[1;33m.\u001b[0m\u001b[0mDTypeLike\u001b[0m \u001b[1;33m|\u001b[0m \u001b[1;32mNone\u001b[0m \u001b[1;33m=\u001b[0m \u001b[1;32mNone\u001b[0m\u001b[1;33m,\u001b[0m \u001b[0mcopy\u001b[0m\u001b[1;33m:\u001b[0m \u001b[0mbool_t\u001b[0m \u001b[1;33m|\u001b[0m \u001b[1;32mNone\u001b[0m \u001b[1;33m=\u001b[0m \u001b[1;32mNone\u001b[0m\u001b[1;33m\u001b[0m\u001b[1;33m\u001b[0m\u001b[0m\n\u001b[0;32m   2151\u001b[0m     ) -> np.ndarray:\n\u001b[0;32m   2152\u001b[0m         \u001b[0mvalues\u001b[0m \u001b[1;33m=\u001b[0m \u001b[0mself\u001b[0m\u001b[1;33m.\u001b[0m\u001b[0m_values\u001b[0m\u001b[1;33m\u001b[0m\u001b[1;33m\u001b[0m\u001b[0m\n\u001b[1;32m-> 2153\u001b[1;33m         \u001b[0marr\u001b[0m \u001b[1;33m=\u001b[0m \u001b[0mnp\u001b[0m\u001b[1;33m.\u001b[0m\u001b[0masarray\u001b[0m\u001b[1;33m(\u001b[0m\u001b[0mvalues\u001b[0m\u001b[1;33m,\u001b[0m \u001b[0mdtype\u001b[0m\u001b[1;33m=\u001b[0m\u001b[0mdtype\u001b[0m\u001b[1;33m)\u001b[0m\u001b[1;33m\u001b[0m\u001b[1;33m\u001b[0m\u001b[0m\n\u001b[0m\u001b[0;32m   2154\u001b[0m         if (\n\u001b[0;32m   2155\u001b[0m             \u001b[0mastype_is_view\u001b[0m\u001b[1;33m(\u001b[0m\u001b[0mvalues\u001b[0m\u001b[1;33m.\u001b[0m\u001b[0mdtype\u001b[0m\u001b[1;33m,\u001b[0m \u001b[0marr\u001b[0m\u001b[1;33m.\u001b[0m\u001b[0mdtype\u001b[0m\u001b[1;33m)\u001b[0m\u001b[1;33m\u001b[0m\u001b[1;33m\u001b[0m\u001b[0m\n\u001b[0;32m   2156\u001b[0m             \u001b[1;32mand\u001b[0m \u001b[0musing_copy_on_write\u001b[0m\u001b[1;33m(\u001b[0m\u001b[1;33m)\u001b[0m\u001b[1;33m\u001b[0m\u001b[1;33m\u001b[0m\u001b[0m\n",
      "\u001b[1;31mValueError\u001b[0m: could not convert string to float: 'x'"
     ]
    }
   ],
   "source": [
    "# Check for non-numeric values in the dataset\n",
    "non_numeric_values_X = X.select_dtypes(exclude=[np.number])\n",
    "non_numeric_values_y = y.select_dtypes(exclude=[np.number])\n",
    "\n",
    "print(\"Non-numeric values in features (X):\\n\", non_numeric_values_X.head())\n",
    "print(\"Non-numeric values in target variable (y):\\n\", non_numeric_values_y.head())\n",
    "\n",
    "# Handle non-numeric values (replace or remove)\n",
    "# For example, you can replace non-numeric values with the mean\n",
    "X = X.apply(pd.to_numeric, errors='coerce').fillna(X.mean())\n",
    "y = y.apply(pd.to_numeric, errors='coerce').fillna(y.mean())\n",
    "\n",
    "# Split the data into training and testing sets\n",
    "X_train, X_test, y_train, y_test = train_test_split(X, y, test_size=0.2, random_state=42)\n",
    "\n",
    "# Initialize SVM classifier\n",
    "svm_classifier = SVC()\n",
    "\n",
    "# Train the SVM classifier\n",
    "svm_classifier.fit(X_train, y_train)\n",
    "\n",
    "# Predictions on the test set\n",
    "y_pred = svm_classifier.predict(X_test)\n",
    "\n",
    "# Evaluate the initial model\n",
    "print(\"Initial SVM Model Performance:\")\n",
    "print(classification_report(y_test, y_pred))\n",
    "print(\"Confusion Matrix:\")\n",
    "print(confusion_matrix(y_test, y_pred))\n",
    "\n",
    "# Define the parameter grid for GridSearchCV\n",
    "param_grid = {'C': [0.1, 1, 10, 100],\n",
    "              'gamma': [1, 0.1, 0.01, 0.001],\n",
    "              'kernel': ['linear', 'rbf', 'poly', 'sigmoid']}\n",
    "\n",
    "# Initialize GridSearchCV\n",
    "grid_search = GridSearchCV(SVC(), param_grid, refit=True, verbose=3)\n",
    "\n",
    "# Fit the GridSearchCV on the training data\n",
    "grid_search.fit(X_train, y_train)\n",
    "\n",
    "# Get the best parameters\n",
    "best_params = grid_search.best_params_\n",
    "\n",
    "# Build the improved SVM model with best parameters\n",
    "improved_svm_classifier = SVC(**best_params)\n",
    "\n",
    "# Train the improved SVM model\n",
    "improved_svm_classifier.fit(X_train, y_train)\n",
    "\n",
    "# Predictions on the test set using improved model\n",
    "y_pred_improved = improved_svm_classifier.predict(X_test)\n",
    "\n",
    "# Evaluate the improved model\n",
    "print(\"\\nImproved SVM Model Performance:\")\n",
    "print(classification_report(y_test, y_pred_improved))\n",
    "print(\"Confusion Matrix:\")\n",
    "print(confusion_matrix(y_test, y_pred_improved))\n"
   ]
  },
  {
   "cell_type": "code",
   "execution_count": 77,
   "id": "4566f458-73b6-45e4-a911-30e1d3404215",
   "metadata": {},
   "outputs": [
    {
     "ename": "NameError",
     "evalue": "name 'grid_search' is not defined",
     "output_type": "error",
     "traceback": [
      "\u001b[1;31m---------------------------------------------------------------------------\u001b[0m",
      "\u001b[1;31mNameError\u001b[0m                                 Traceback (most recent call last)",
      "Cell \u001b[1;32mIn[77], line 2\u001b[0m\n\u001b[0;32m      1\u001b[0m \u001b[38;5;66;03m# Evaluate performance\u001b[39;00m\n\u001b[1;32m----> 2\u001b[0m y_pred \u001b[38;5;241m=\u001b[39m \u001b[43mgrid_search\u001b[49m\u001b[38;5;241m.\u001b[39mpredict(X_test)\n\u001b[0;32m      3\u001b[0m \u001b[38;5;28mprint\u001b[39m(\u001b[38;5;124m\"\u001b[39m\u001b[38;5;124mClassification Report:\u001b[39m\u001b[38;5;124m\"\u001b[39m)\n\u001b[0;32m      4\u001b[0m \u001b[38;5;28mprint\u001b[39m(classification_report(y_test, y_pred))\n",
      "\u001b[1;31mNameError\u001b[0m: name 'grid_search' is not defined"
     ]
    }
   ],
   "source": [
    "\n",
    "# Evaluate performance\n",
    "y_pred = grid_search.predict(X_test)\n",
    "print(\"Classification Report:\")\n",
    "print(classification_report(y_test, y_pred))\n",
    "print(\"Confusion Matrix:\")\n",
    "print(confusion_matrix(y_test, y_pred))"
   ]
  },
  {
   "cell_type": "code",
   "execution_count": null,
   "id": "f016d07a-2c51-4980-b2ba-d00bd06d02eb",
   "metadata": {},
   "outputs": [],
   "source": []
  }
 ],
 "metadata": {
  "kernelspec": {
   "display_name": "Python 3 (ipykernel)",
   "language": "python",
   "name": "python3"
  },
  "language_info": {
   "codemirror_mode": {
    "name": "ipython",
    "version": 3
   },
   "file_extension": ".py",
   "mimetype": "text/x-python",
   "name": "python",
   "nbconvert_exporter": "python",
   "pygments_lexer": "ipython3",
   "version": "3.11.5"
  }
 },
 "nbformat": 4,
 "nbformat_minor": 5
}
