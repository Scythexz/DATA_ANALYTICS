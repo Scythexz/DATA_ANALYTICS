{
 "cells": [
  {
   "cell_type": "code",
   "execution_count": 1,
   "metadata": {},
   "outputs": [],
   "source": [
    "from ucimlrepo import fetch_ucirepo \n",
    "from sklearn.model_selection import train_test_split\n",
    "from sklearn.tree import DecisionTreeClassifier, plot_tree\n",
    "from sklearn.impute import SimpleImputer\n",
    "from sklearn.metrics import classification_report\n",
    "from ucimlrepo import fetch_ucirepo\n",
    "from sklearn.metrics import confusion_matrix, ConfusionMatrixDisplay\n",
    "\n",
    "import pandas as pd\n",
    "import numpy as np\n",
    "import pandas as pd\n",
    "import seaborn as sns\n",
    "import matplotlib.pyplot as plt\n"
   ]
  },
  {
   "cell_type": "code",
   "execution_count": 2,
   "metadata": {},
   "outputs": [
    {
     "name": "stdout",
     "output_type": "stream",
     "text": [
      "{'uci_id': 367, 'name': 'Dota2 Games Results', 'repository_url': 'https://archive.ics.uci.edu/dataset/367/dota2+games+results', 'data_url': 'https://archive.ics.uci.edu/static/public/367/data.csv', 'abstract': 'Dota 2 is a popular computer game with two teams of 5 players. At the start of the game each player chooses a unique hero with different strengths and weaknesses.', 'area': 'Games', 'tasks': ['Classification'], 'characteristics': ['Multivariate'], 'num_instances': 102944, 'num_features': 115, 'feature_types': [], 'demographics': [], 'target_col': ['win'], 'index_col': ['clusterid'], 'has_missing_values': 'no', 'missing_values_symbol': None, 'year_of_dataset_creation': 2016, 'last_updated': 'Sat Apr 13 2024', 'dataset_doi': '10.24432/C5W593', 'creators': ['Stephen Tridgell'], 'intro_paper': None, 'additional_info': {'summary': 'Dota 2 is a popular computer game with two teams of 5 players. At the start of the game each player chooses a unique hero with different strengths and weaknesses. The dataset is reasonably sparse as only 10 of 113 possible heroes are chosen in a given game. All games were played in a space of 2 hours on the 13th of August, 2016\\n\\nThe data was collected using: https://gist.github.com/da-steve101/1a7ae319448db431715bd75391a66e1b', 'purpose': None, 'funded_by': None, 'instances_represent': None, 'recommended_data_splits': None, 'sensitive_data': None, 'preprocessing_description': None, 'variable_info': \"Each row of the dataset is a single game with the following features (in the order in the vector):\\n1. Team won the game (1 or -1)\\n2. Cluster ID (related to location)\\n3. Game mode (eg All Pick)\\n4. Game type (eg. Ranked)\\n5 - end: Each element is an indicator for a hero. Value of 1 indicates that a player from team '1' played as that hero and '-1' for the other team. Hero can be selected by only one player each game. This means that each row has five '1' and five '-1' values.\\n\\nThe hero to id mapping can be found here: https://github.com/kronusme/dota2-api/blob/master/data/heroes.json\", 'citation': None}}\n",
      "          name     role     type demographic description units missing_values\n",
      "0          win   Target   Binary        None        None  None             no\n",
      "1    clusterid       ID  Integer        None        None  None             no\n",
      "2     gamemode  Feature  Integer        None        None  None             no\n",
      "3     gametype  Feature  Integer        None        None  None             no\n",
      "4        hero1  Feature   Binary        None        None  None             no\n",
      "..         ...      ...      ...         ...         ...   ...            ...\n",
      "112    hero109  Feature   Binary        None        None  None             no\n",
      "113    hero110  Feature   Binary        None        None  None             no\n",
      "114    hero111  Feature   Binary        None        None  None             no\n",
      "115    hero112  Feature   Binary        None        None  None             no\n",
      "116    hero113  Feature   Binary        None        None  None             no\n",
      "\n",
      "[117 rows x 7 columns]\n"
     ]
    }
   ],
   "source": [
    "# fetch dataset \n",
    "#horse_colic = fetch_ucirepo(id=47) \n",
    "  \n",
    "# data (as pandas dataframes) \n",
    "#X = horse_colic.data.features \n",
    "#y = horse_colic.data.targets \n",
    "  \n",
    "# variable information \n",
    "#print(horse_colic.variables) \n",
    " \n",
    "# fetch dataset \n",
    "dota2_games_results = fetch_ucirepo(id=367) \n",
    "  \n",
    "# data (as pandas dataframes) \n",
    "X = dota2_games_results.data.features \n",
    "y = dota2_games_results.data.targets \n",
    "  \n",
    "# metadata \n",
    "print(dota2_games_results.metadata) \n",
    "  \n",
    "# variable information \n",
    "print(dota2_games_results.variables) \n"
   ]
  },
  {
   "cell_type": "code",
   "execution_count": 3,
   "metadata": {},
   "outputs": [],
   "source": [
    "if isinstance(dota2_games_results.data.targets, pd.DataFrame):\n",
    "    y = dota2_games_results.data.targets.squeeze()\n",
    "else:\n",
    "    y = pd.Series(dota2_games_results.data.targets, name='target')\n",
    "\n",
    "imputer = SimpleImputer(strategy='mean')\n",
    "X_imputed = pd.DataFrame(imputer.fit_transform(X), columns=X.columns)\n",
    "\n",
    "X_train, X_test, y_train, y_test = train_test_split(X_imputed, y, test_size=0.2, random_state=42)"
   ]
  },
  {
   "cell_type": "code",
   "execution_count": 4,
   "metadata": {},
   "outputs": [],
   "source": [
    "clf = DecisionTreeClassifier(random_state=69)\n",
    "clf.fit(X_train, y_train)\n",
    "\n",
    "y_pred = clf.predict(X_test)"
   ]
  },
  {
   "cell_type": "code",
   "execution_count": 5,
   "metadata": {},
   "outputs": [
    {
     "name": "stdout",
     "output_type": "stream",
     "text": [
      "Features Head:\n",
      "   gamemode  gametype  hero1  hero2  hero3  hero4  hero5  hero6  hero7  hero8  \\\n",
      "0         2         2      0      0      0      0      0      0      0      0   \n",
      "1         2         2      0      0      0      1      0     -1      0      0   \n",
      "2         2         2      0      0      0      1      0     -1      0      0   \n",
      "3         2         2      0      0      0      0      0      0     -1      0   \n",
      "4         2         3      0      0      0      0      0     -1      0      0   \n",
      "\n",
      "   ...  hero104  hero105  hero106  hero107  hero108  hero109  hero110  \\\n",
      "0  ...        0        0        0        0        0        0        0   \n",
      "1  ...        0        0        0        0        0        0        0   \n",
      "2  ...        0        0        0        0        0        0        0   \n",
      "3  ...       -1        0        0        0        0        0        0   \n",
      "4  ...        0        0        0        0        0        0        0   \n",
      "\n",
      "   hero111  hero112  hero113  \n",
      "0        0        0        0  \n",
      "1        0        0        0  \n",
      "2        0        0        0  \n",
      "3        0        0        0  \n",
      "4        0        0        0  \n",
      "\n",
      "[5 rows x 115 columns]\n",
      "Targets Head:\n",
      "0   -1\n",
      "1    1\n",
      "2    1\n",
      "3    1\n",
      "4   -1\n",
      "Name: win, dtype: int64\n"
     ]
    }
   ],
   "source": [
    "print(\"Features Head:\")\n",
    "print(X.head())  \n",
    "print(\"Targets Head:\")\n",
    "print(y.head()) "
   ]
  },
  {
   "cell_type": "code",
   "execution_count": null,
   "metadata": {},
   "outputs": [],
   "source": [
    "plt.figure(figsize=(30, 20)) \n",
    "plot_tree(clf, feature_names=X.columns, class_names=['Class 1', 'Class 2'], filled=True, rounded=True, fontsize=12)\n",
    "plt.show()"
   ]
  },
  {
   "cell_type": "code",
   "execution_count": null,
   "metadata": {},
   "outputs": [],
   "source": [
    "cm = confusion_matrix(y_test, y_pred)\n",
    "\n",
    "disp = ConfusionMatrixDisplay(confusion_matrix=cm, display_labels=clf.classes_)\n",
    "disp.plot(cmap=plt.cm.Blues)\n",
    "\n",
    "plt.show()\n",
    "\n",
    "print(\"Confusion Matrix:\")\n",
    "print(cm)\n",
    "\n",
    "TP = cm[0, 0]\n",
    "FP = cm[0, 1]\n",
    "FN = cm[1, 0]\n",
    "TN = cm[1, 1]\n",
    "\n",
    "print(f\"True Positives: {TP}\")\n",
    "print(f\"False Positives: {FP}\")\n",
    "print(f\"False Negatives: {FN}\")\n",
    "print(f\"True Negatives: {TN}\")"
   ]
  },
  {
   "cell_type": "code",
   "execution_count": null,
   "metadata": {},
   "outputs": [],
   "source": [
    "print(\"Classification Report:\")\n",
    "print(classification_report(y_test, y_pred))"
   ]
  }
 ],
 "metadata": {
  "kernelspec": {
   "display_name": "Python 3 (ipykernel)",
   "language": "python",
   "name": "python3"
  },
  "language_info": {
   "codemirror_mode": {
    "name": "ipython",
    "version": 3
   },
   "file_extension": ".py",
   "mimetype": "text/x-python",
   "name": "python",
   "nbconvert_exporter": "python",
   "pygments_lexer": "ipython3",
   "version": "3.12.0"
  }
 },
 "nbformat": 4,
 "nbformat_minor": 4
}
